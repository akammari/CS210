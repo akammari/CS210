{
  "cells": [
    {
      "cell_type": "code",
      "execution_count": 2,
      "metadata": {
        "id": "hxuSZ3sf2Jv0"
      },
      "outputs": [],
      "source": [
        "import pandas as pd\n",
        "import numpy as np\n",
        "import matplotlib.pyplot as plt\n",
        "from google.colab import files\n",
        "import io\n",
        "import seaborn as sns\n",
        "sns.set_palette('husl')\n",
        "import warnings\n",
        "import math\n",
        "import pandas as pd\n",
        "DataFrame=pd.read_csv('/content/sample_data/twitter_dataset.csv',engine='python')"
      ]
    },
    {
      "cell_type": "code",
      "execution_count": 19,
      "metadata": {
        "colab": {
          "base_uri": "https://localhost:8080/"
        },
        "id": "LjPDM5m33s-g",
        "outputId": "727b4af6-464f-4de5-ab5f-1fd4a419c91c"
      },
      "outputs": [
        {
          "name": "stdout",
          "output_type": "stream",
          "text": [
            "Substring: Mrs, Count: 160\n",
            "Substring: Democrat, Count: 154\n",
            "Substring: man, Count: 143\n",
            "Substring: among, Count: 143\n",
            "Substring: TV, Count: 143\n",
            "Substring: maybe, Count: 140\n",
            "Substring: national, Count: 139\n",
            "Substring: maintain, Count: 139\n",
            "Substring: everyone, Count: 138\n",
            "Substring: hard, Count: 138\n",
            "Substring: relationship, Count: 137\n",
            "Substring: when, Count: 137\n",
            "Substring: practice, Count: 137\n",
            "Substring: recognize, Count: 136\n",
            "Substring: high, Count: 136\n",
            "Substring: many, Count: 136\n",
            "Substring: agent, Count: 136\n",
            "Substring: he, Count: 135\n",
            "Substring: teach, Count: 135\n",
            "Substring: four, Count: 135\n",
            "Substring: analysis, Count: 135\n",
            "Substring: contain, Count: 133\n",
            "Substring: drop, Count: 133\n",
            "Substring: direction, Count: 133\n",
            "Substring: message, Count: 133\n",
            "Substring: either, Count: 133\n",
            "Substring: community, Count: 133\n",
            "Substring: trial, Count: 132\n",
            "Substring: test, Count: 132\n",
            "Substring: early, Count: 132\n"
          ]
        }
      ],
      "source": [
        "#Most common words within tweets that have above the mean number of likes\n",
        "import collections\n",
        "likes_threshold = DataFrame['Likes'].mean()\n",
        "df_filtered = DataFrame[DataFrame['Likes'] >= likes_threshold]\n",
        "\n",
        "column_data = df_filtered['Text']\n",
        "\n",
        "all_substrings = ' '.join(column_data).split()\n",
        "substring_counts = collections.Counter(all_substrings)\n",
        "\n",
        "most_common_substrings = substring_counts.most_common(30)  \n",
        "\n",
        "for substring, count in most_common_substrings:\n",
        "    print(f'Substring: {substring}, Count: {count}')"
      ]
    },
    {
      "cell_type": "code",
      "execution_count": 18,
      "metadata": {
        "colab": {
          "base_uri": "https://localhost:8080/"
        },
        "id": "ZhAubafu_CA2",
        "outputId": "b65eeb33-7f1d-4c9f-9f25-13d8deb4f0ae"
      },
      "outputs": [
        {
          "name": "stdout",
          "output_type": "stream",
          "text": [
            "Substring: Mrs, Count: 160\n",
            "Substring: Democrat, Count: 154\n",
            "Substring: man, Count: 143\n",
            "Substring: among, Count: 143\n",
            "Substring: TV, Count: 143\n",
            "Substring: maybe, Count: 140\n",
            "Substring: national, Count: 139\n",
            "Substring: maintain, Count: 139\n",
            "Substring: everyone, Count: 138\n",
            "Substring: hard, Count: 138\n",
            "Substring: relationship, Count: 137\n",
            "Substring: when, Count: 137\n",
            "Substring: practice, Count: 137\n",
            "Substring: recognize, Count: 136\n",
            "Substring: high, Count: 136\n",
            "Substring: many, Count: 136\n",
            "Substring: agent, Count: 136\n",
            "Substring: he, Count: 135\n",
            "Substring: teach, Count: 135\n",
            "Substring: four, Count: 135\n",
            "Substring: analysis, Count: 135\n",
            "Substring: contain, Count: 133\n",
            "Substring: drop, Count: 133\n",
            "Substring: direction, Count: 133\n",
            "Substring: message, Count: 133\n",
            "Substring: either, Count: 133\n",
            "Substring: community, Count: 133\n",
            "Substring: trial, Count: 132\n",
            "Substring: test, Count: 132\n",
            "Substring: early, Count: 132\n"
          ]
        }
      ],
      "source": [
        "#Most common words within tweets that have above the median number of likes\n",
        "import collections\n",
        "likes_threshold = DataFrame[\"Likes\"].median()\n",
        "df_filtered = DataFrame[DataFrame['Likes'] >= likes_threshold]\n",
        "\n",
        "column_data = df_filtered['Text']\n",
        "\n",
        "all_substrings = ' '.join(column_data).split()\n",
        "substring_counts = collections.Counter(all_substrings)\n",
        "\n",
        "most_common_substrings = substring_counts.most_common(30)  \n",
        "\n",
        "for substring, count in most_common_substrings:\n",
        "    print(f'Substring: {substring}, Count: {count}')"
      ]
    },
    {
      "cell_type": "code",
      "execution_count": 17,
      "metadata": {
        "colab": {
          "base_uri": "https://localhost:8080/"
        },
        "id": "L3T4KzwW92_Q",
        "outputId": "ed9aaf17-dd38-4cb9-8374-558d0bfdbfc5"
      },
      "outputs": [
        {
          "name": "stdout",
          "output_type": "stream",
          "text": [
            "Substring: among, Count: 81\n",
            "Substring: Democrat, Count: 79\n",
            "Substring: analysis, Count: 78\n",
            "Substring: exactly, Count: 78\n",
            "Substring: TV, Count: 77\n",
            "Substring: man, Count: 77\n",
            "Substring: record, Count: 77\n",
            "Substring: Mrs, Count: 76\n",
            "Substring: mention, Count: 76\n",
            "Substring: go, Count: 76\n",
            "Substring: maintain, Count: 75\n",
            "Substring: everyone, Count: 75\n",
            "Substring: member, Count: 74\n",
            "Substring: long, Count: 74\n",
            "Substring: while, Count: 74\n",
            "Substring: or, Count: 73\n",
            "Substring: team, Count: 73\n",
            "Substring: maybe, Count: 72\n",
            "Substring: message, Count: 72\n",
            "Substring: he, Count: 71\n",
            "Substring: finally, Count: 71\n",
            "Substring: contain, Count: 70\n",
            "Substring: recognize, Count: 70\n",
            "Substring: drop, Count: 70\n",
            "Substring: community, Count: 70\n",
            "Substring: not, Count: 70\n",
            "Substring: trade, Count: 70\n",
            "Substring: imagine, Count: 70\n",
            "Substring: ever, Count: 70\n",
            "Substring: term, Count: 69\n"
          ]
        }
      ],
      "source": [
        "#Most common words within tweets that have above the upper quartile number of likes\n",
        "import collections\n",
        "likes_threshold = np.percentile(DataFrame['Likes'], 75)\n",
        "df_filtered = DataFrame[DataFrame['Likes'] >= likes_threshold]\n",
        "\n",
        "column_data = df_filtered['Text']\n",
        "\n",
        "all_substrings = ' '.join(column_data).split()\n",
        "substring_counts = collections.Counter(all_substrings)\n",
        "\n",
        "most_common_substrings = substring_counts.most_common(30)  \n",
        "\n",
        "for substring, count in most_common_substrings:\n",
        "    print(f'Substring: {substring}, Count: {count}')"
      ]
    },
    {
      "cell_type": "code",
      "execution_count": 16,
      "metadata": {
        "colab": {
          "base_uri": "https://localhost:8080/"
        },
        "id": "kmxhX0kC_f6a",
        "outputId": "adf4d4f3-8283-46be-a8e0-45567f2a1572"
      },
      "outputs": [
        {
          "name": "stdout",
          "output_type": "stream",
          "text": [
            "Substring: yourself, Count: 147\n",
            "Substring: want, Count: 143\n",
            "Substring: Mr, Count: 139\n",
            "Substring: if, Count: 139\n",
            "Substring: Democrat, Count: 138\n",
            "Substring: American, Count: 137\n",
            "Substring: Mrs, Count: 137\n",
            "Substring: hard, Count: 137\n",
            "Substring: along, Count: 137\n",
            "Substring: out, Count: 136\n",
            "Substring: forget, Count: 136\n",
            "Substring: relationship, Count: 136\n",
            "Substring: wear, Count: 135\n",
            "Substring: reveal, Count: 134\n",
            "Substring: amount, Count: 134\n",
            "Substring: take, Count: 134\n",
            "Substring: goal, Count: 134\n",
            "Substring: learn, Count: 133\n",
            "Substring: soldier, Count: 133\n",
            "Substring: job, Count: 133\n",
            "Substring: agree, Count: 133\n",
            "Substring: scene, Count: 133\n",
            "Substring: analysis, Count: 133\n",
            "Substring: ever, Count: 132\n",
            "Substring: task, Count: 132\n",
            "Substring: early, Count: 132\n",
            "Substring: cell, Count: 132\n",
            "Substring: type, Count: 132\n",
            "Substring: everything, Count: 132\n",
            "Substring: piece, Count: 132\n"
          ]
        }
      ],
      "source": [
        "#Most common words within tweets that have above the mean number of Retweets\n",
        "import collections\n",
        "Retweets_threshold = DataFrame['Retweets'].mean()\n",
        "df_filtered = DataFrame[DataFrame['Retweets'] >= Retweets_threshold]\n",
        "\n",
        "column_data = df_filtered['Text']\n",
        "\n",
        "all_substrings = ' '.join(column_data).split()\n",
        "substring_counts = collections.Counter(all_substrings)\n",
        "\n",
        "most_common_substrings = substring_counts.most_common(30)  \n",
        "\n",
        "for substring, count in most_common_substrings:\n",
        "    print(f'Substring: {substring}, Count: {count}')"
      ]
    },
    {
      "cell_type": "code",
      "execution_count": 15,
      "metadata": {
        "colab": {
          "base_uri": "https://localhost:8080/"
        },
        "id": "2EG1CxfRAKBQ",
        "outputId": "b98a7236-7f04-4324-f633-7e8124892c5a"
      },
      "outputs": [
        {
          "name": "stdout",
          "output_type": "stream",
          "text": [
            "Substring: yourself, Count: 154\n",
            "Substring: want, Count: 148\n",
            "Substring: Mr, Count: 143\n",
            "Substring: if, Count: 143\n",
            "Substring: relationship, Count: 142\n",
            "Substring: Democrat, Count: 140\n",
            "Substring: task, Count: 139\n",
            "Substring: take, Count: 139\n",
            "Substring: out, Count: 139\n",
            "Substring: Mrs, Count: 139\n",
            "Substring: along, Count: 139\n",
            "Substring: reveal, Count: 138\n",
            "Substring: ever, Count: 138\n",
            "Substring: amount, Count: 138\n",
            "Substring: hard, Count: 138\n",
            "Substring: American, Count: 137\n",
            "Substring: forget, Count: 137\n",
            "Substring: scene, Count: 137\n",
            "Substring: goal, Count: 137\n",
            "Substring: soldier, Count: 136\n",
            "Substring: everything, Count: 136\n",
            "Substring: piece, Count: 136\n",
            "Substring: wear, Count: 136\n",
            "Substring: mention, Count: 135\n",
            "Substring: serve, Count: 135\n",
            "Substring: job, Count: 135\n",
            "Substring: cell, Count: 135\n",
            "Substring: analysis, Count: 135\n",
            "Substring: tax, Count: 135\n",
            "Substring: I, Count: 134\n"
          ]
        }
      ],
      "source": [
        "#Most common words within tweets that have above the median number of Retweets\n",
        "import collections\n",
        "Retweets_threshold = DataFrame['Retweets'].median()\n",
        "df_filtered = DataFrame[DataFrame['Retweets'] >= Retweets_threshold]\n",
        "\n",
        "column_data = df_filtered['Text']\n",
        "\n",
        "all_substrings = ' '.join(column_data).split()\n",
        "substring_counts = collections.Counter(all_substrings)\n",
        "\n",
        "most_common_substrings = substring_counts.most_common(30) \n",
        "\n",
        "for substring, count in most_common_substrings:\n",
        "    print(f'Substring: {substring}, Count: {count}')"
      ]
    },
    {
      "cell_type": "code",
      "execution_count": 14,
      "metadata": {
        "colab": {
          "base_uri": "https://localhost:8080/"
        },
        "id": "l9DtuXxgAPgk",
        "outputId": "aa36da85-3f8b-4c64-d174-734658390aae"
      },
      "outputs": [
        {
          "name": "stdout",
          "output_type": "stream",
          "text": [
            "Substring: of, Count: 78\n",
            "Substring: relationship, Count: 78\n",
            "Substring: nearly, Count: 77\n",
            "Substring: early, Count: 75\n",
            "Substring: Mr, Count: 74\n",
            "Substring: Mrs, Count: 74\n",
            "Substring: check, Count: 73\n",
            "Substring: design, Count: 73\n",
            "Substring: you, Count: 73\n",
            "Substring: official, Count: 72\n",
            "Substring: learn, Count: 72\n",
            "Substring: young, Count: 72\n",
            "Substring: perhaps, Count: 72\n",
            "Substring: his, Count: 72\n",
            "Substring: discussion, Count: 72\n",
            "Substring: family, Count: 71\n",
            "Substring: behind, Count: 71\n",
            "Substring: one, Count: 71\n",
            "Substring: song, Count: 71\n",
            "Substring: really, Count: 71\n",
            "Substring: cell, Count: 71\n",
            "Substring: hard, Count: 71\n",
            "Substring: level, Count: 71\n",
            "Substring: where, Count: 71\n",
            "Substring: arrive, Count: 71\n",
            "Substring: why, Count: 70\n",
            "Substring: want, Count: 70\n",
            "Substring: serve, Count: 70\n",
            "Substring: rate, Count: 70\n",
            "Substring: stop, Count: 70\n"
          ]
        }
      ],
      "source": [
        "#Most common words within tweets that have above the upper quartile number of Retweets\n",
        "import collections\n",
        "Retweets_threshold = np.percentile(DataFrame['Retweets'], 75)\n",
        "df_filtered = DataFrame[DataFrame['Retweets'] >= Retweets_threshold]\n",
        "\n",
        "column_data = df_filtered['Text']\n",
        "\n",
        "all_substrings = ' '.join(column_data).split()\n",
        "substring_counts = collections.Counter(all_substrings)\n",
        "\n",
        "most_common_substrings = substring_counts.most_common(30) \n",
        "\n",
        "for substring, count in most_common_substrings:\n",
        "    print(f'Substring: {substring}, Count: {count}')"
      ]
    },
    {
      "cell_type": "code",
      "execution_count": 22,
      "metadata": {
        "colab": {
          "base_uri": "https://localhost:8080/"
        },
        "id": "dZJsnz_fAciv",
        "outputId": "23355574-8ba2-4f22-a193-c68e345eb25e"
      },
      "outputs": [
        {
          "name": "stdout",
          "output_type": "stream",
          "text": [
            "Substring: must, Count: 83\n",
            "Substring: relationship, Count: 79\n",
            "Substring: drop, Count: 78\n",
            "Substring: hard, Count: 78\n",
            "Substring: analysis, Count: 78\n",
            "Substring: reveal, Count: 77\n",
            "Substring: forget, Count: 77\n",
            "Substring: Mrs, Count: 77\n",
            "Substring: yourself, Count: 76\n",
            "Substring: type, Count: 76\n",
            "Substring: them, Count: 76\n",
            "Substring: amount, Count: 74\n",
            "Substring: page, Count: 74\n",
            "Substring: cell, Count: 74\n",
            "Substring: test, Count: 74\n",
            "Substring: piece, Count: 74\n",
            "Substring: well, Count: 74\n",
            "Substring: fire, Count: 73\n",
            "Substring: age, Count: 73\n",
            "Substring: carry, Count: 73\n",
            "Substring: Democrat, Count: 73\n",
            "Substring: while, Count: 73\n",
            "Substring: fund, Count: 73\n",
            "Substring: maybe, Count: 72\n",
            "Substring: world, Count: 72\n",
            "Substring: hair, Count: 72\n",
            "Substring: agree, Count: 72\n",
            "Substring: cup, Count: 72\n",
            "Substring: task, Count: 71\n",
            "Substring: mention, Count: 71\n"
          ]
        }
      ],
      "source": [
        "#Most common words within tweets that have above the mean number of retweets and likes\n",
        "import collections\n",
        "Retweets_threshold = DataFrame['Retweets'].mean()\n",
        "df_filteredO = DataFrame[DataFrame['Retweets'] >= Retweets_threshold]\n",
        "Likes_threshold = DataFrame['Likes'].mean()\n",
        "df_filtered = df_filteredO[df_filteredO['Likes'] >= Likes_threshold]\n",
        "\n",
        "column_data = df_filtered['Text']\n",
        "\n",
        "all_substrings = ' '.join(column_data).split()\n",
        "substring_counts = collections.Counter(all_substrings)\n",
        "\n",
        "most_common_substrings = substring_counts.most_common(30)  \n",
        "\n",
        "for substring, count in most_common_substrings:\n",
        "    print(f'Substring: {substring}, Count: {count}')"
      ]
    },
    {
      "cell_type": "code",
      "execution_count": 24,
      "metadata": {
        "colab": {
          "base_uri": "https://localhost:8080/"
        },
        "id": "lRGmaLH_DXr8",
        "outputId": "16ab3769-bfb3-420b-ac3d-ed18fe320272"
      },
      "outputs": [
        {
          "name": "stdout",
          "output_type": "stream",
          "text": [
            "Substring: must, Count: 83\n",
            "Substring: relationship, Count: 80\n",
            "Substring: drop, Count: 79\n",
            "Substring: reveal, Count: 79\n",
            "Substring: yourself, Count: 79\n",
            "Substring: Mrs, Count: 79\n",
            "Substring: hard, Count: 79\n",
            "Substring: analysis, Count: 79\n",
            "Substring: them, Count: 79\n",
            "Substring: type, Count: 77\n",
            "Substring: forget, Count: 77\n",
            "Substring: piece, Count: 77\n",
            "Substring: task, Count: 76\n",
            "Substring: cell, Count: 76\n",
            "Substring: amount, Count: 75\n",
            "Substring: age, Count: 75\n",
            "Substring: carry, Count: 75\n",
            "Substring: well, Count: 75\n",
            "Substring: fire, Count: 74\n",
            "Substring: page, Count: 74\n",
            "Substring: finally, Count: 74\n",
            "Substring: test, Count: 74\n",
            "Substring: take, Count: 74\n",
            "Substring: while, Count: 74\n",
            "Substring: cup, Count: 74\n",
            "Substring: maybe, Count: 73\n",
            "Substring: mention, Count: 73\n",
            "Substring: boy, Count: 73\n",
            "Substring: of, Count: 73\n",
            "Substring: one, Count: 73\n"
          ]
        }
      ],
      "source": [
        "#Most common words within tweets that have above the median number of retweets and likes\n",
        "import collections\n",
        "Retweets_threshold = DataFrame['Retweets'].median()\n",
        "df_filteredO = DataFrame[DataFrame['Retweets'] >= Retweets_threshold]\n",
        "Likes_threshold = DataFrame['Likes'].median()\n",
        "df_filtered = df_filteredO[df_filteredO['Likes'] >= Likes_threshold]\n",
        "\n",
        "column_data = df_filtered['Text']\n",
        "\n",
        "all_substrings = ' '.join(column_data).split()\n",
        "substring_counts = collections.Counter(all_substrings)\n",
        "\n",
        "most_common_substrings = substring_counts.most_common(30)\n",
        "\n",
        "for substring, count in most_common_substrings:\n",
        "    print(f'Substring: {substring}, Count: {count}')"
      ]
    },
    {
      "cell_type": "code",
      "execution_count": 25,
      "metadata": {
        "colab": {
          "base_uri": "https://localhost:8080/"
        },
        "id": "Gr3lBi3zD5Fe",
        "outputId": "fc92d970-1a2e-4906-e93e-27d9bc508955"
      },
      "outputs": [
        {
          "name": "stdout",
          "output_type": "stream",
          "text": [
            "Substring: go, Count: 29\n",
            "Substring: learn, Count: 27\n",
            "Substring: year, Count: 26\n",
            "Substring: organization, Count: 25\n",
            "Substring: game, Count: 25\n",
            "Substring: wear, Count: 25\n",
            "Substring: note, Count: 25\n",
            "Substring: hundred, Count: 25\n",
            "Substring: page, Count: 24\n",
            "Substring: reveal, Count: 24\n",
            "Substring: TV, Count: 24\n",
            "Substring: low, Count: 24\n",
            "Substring: heart, Count: 24\n",
            "Substring: relationship, Count: 23\n",
            "Substring: cell, Count: 23\n",
            "Substring: nation, Count: 23\n",
            "Substring: among, Count: 23\n",
            "Substring: call, Count: 23\n",
            "Substring: girl, Count: 23\n",
            "Substring: well, Count: 23\n",
            "Substring: range, Count: 23\n",
            "Substring: kitchen, Count: 23\n",
            "Substring: maybe, Count: 22\n",
            "Substring: pattern, Count: 22\n",
            "Substring: happen, Count: 22\n",
            "Substring: eat, Count: 22\n",
            "Substring: serve, Count: 22\n",
            "Substring: analysis, Count: 22\n",
            "Substring: he, Count: 22\n",
            "Substring: better, Count: 22\n"
          ]
        }
      ],
      "source": [
        "#Most common words within tweets that have above the upper quartile number of retweets and likes\n",
        "import collections\n",
        "Retweets_threshold = np.percentile(DataFrame['Retweets'], 75)\n",
        "df_filteredO = DataFrame[DataFrame['Retweets'] >= Retweets_threshold]\n",
        "Likes_threshold = np.percentile(DataFrame['Likes'], 75)\n",
        "df_filtered = df_filteredO[df_filteredO['Likes'] >= Likes_threshold]\n",
        "\n",
        "column_data = df_filtered['Text']\n",
        "\n",
        "all_substrings = ' '.join(column_data).split()\n",
        "substring_counts = collections.Counter(all_substrings)\n",
        "\n",
        "most_common_substrings = substring_counts.most_common(30)\n",
        "\n",
        "for substring, count in most_common_substrings:\n",
        "    print(f'Substring: {substring}, Count: {count}')"
      ]
    }
  ],
  "metadata": {
    "colab": {
      "provenance": []
    },
    "kernelspec": {
      "display_name": "Python 3",
      "name": "python3"
    },
    "language_info": {
      "name": "python"
    }
  },
  "nbformat": 4,
  "nbformat_minor": 0
}
